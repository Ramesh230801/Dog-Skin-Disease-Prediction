{
 "cells": [
  {
   "cell_type": "code",
   "execution_count": 10,
   "metadata": {},
   "outputs": [],
   "source": [
    "import tensorflow as tf\n",
    "from tensorflow.keras.preprocessing.image import ImageDataGenerator\n",
    "from tensorflow.keras.callbacks import ReduceLROnPlateau\n",
    "from tensorflow.keras.layers import Input, Conv2D, BatchNormalization, ReLU, Add, GlobalAveragePooling2D, Dense,Dropout\n",
    "from tensorflow.keras.models import Model\n",
    "\n",
    "# Parameters\n",
    "IMG_HEIGHT = 224\n",
    "IMG_WIDTH = 224\n",
    "BATCH_SIZE = 10\n",
    "NUM_CLASSES = 3  # Change based on the number of diseases\n",
    "EPOCHS = 1\n",
    "CARDINALITY = 8  # ResNeXt-specific parameter\n",
    "\n",
    "# Paths to datasets\n",
    "train_dir = \"C:/Users/surya/Downloads/dogSkinDisease/train\"\n",
    "val_dir = \"C:/Users/surya/Downloads/dogSkinDisease/validation\"\n",
    "test_dir = \"C:/Users/surya/Downloads/dogSkinDisease/test\"\n",
    "\n",
    "# Data Augmentation\n"
   ]
  },
  {
   "cell_type": "code",
   "execution_count": 11,
   "metadata": {},
   "outputs": [
    {
     "name": "stdout",
     "output_type": "stream",
     "text": [
      "Found 826 images belonging to 3 classes.\n",
      "Found 60 images belonging to 3 classes.\n"
     ]
    }
   ],
   "source": [
    "train_datagen = ImageDataGenerator(\n",
    "    rescale=1.0 / 255,\n",
    "    rotation_range=40,\n",
    "    width_shift_range=0.3,\n",
    "    height_shift_range=0.3,\n",
    "    shear_range=0.3,\n",
    "    zoom_range=0.3,\n",
    "    horizontal_flip=True,\n",
    "    vertical_flip=True,\n",
    "    fill_mode='nearest'\n",
    ")\n",
    "\n",
    "val_datagen = ImageDataGenerator(rescale=1.0 / 255)\n",
    "\n",
    "train_generator = train_datagen.flow_from_directory(\n",
    "    train_dir,\n",
    "    target_size=(IMG_HEIGHT, IMG_WIDTH),\n",
    "    batch_size=BATCH_SIZE,\n",
    "    class_mode='categorical'\n",
    ")\n",
    "\n",
    "val_generator = val_datagen.flow_from_directory(\n",
    "    val_dir,\n",
    "    target_size=(IMG_HEIGHT, IMG_WIDTH),\n",
    "    batch_size=BATCH_SIZE,\n",
    "    class_mode='categorical'\n",
    ")\n",
    "\n"
   ]
  },
  {
   "cell_type": "code",
   "execution_count": 12,
   "metadata": {},
   "outputs": [],
   "source": [
    "# Define ResNeXt block\n",
    "def resnext_block(input_tensor, filters, cardinality, strides=1):\n",
    "    group_width = filters // cardinality\n",
    "\n",
    "    # 1x1 Convolution\n",
    "    x = Conv2D(filters, (1, 1), strides=strides, padding='same')(input_tensor)\n",
    "    x = BatchNormalization()(x)\n",
    "    x = ReLU()(x)\n",
    "\n",
    "    # Grouped 3x3 Convolution\n",
    "    grouped_channels = []\n",
    "    for i in range(cardinality):\n",
    "        slice_start = i * group_width\n",
    "        slice_end = slice_start + group_width\n",
    "        group = x[..., slice_start:slice_end]\n",
    "        group = Conv2D(group_width, (3, 3), padding='same')(group)\n",
    "        grouped_channels.append(group)\n",
    "\n",
    "    x = tf.concat(grouped_channels, axis=-1)\n",
    "    x = BatchNormalization()(x)\n",
    "    x = ReLU()(x)\n",
    "\n",
    "    # 1x1 Convolution\n",
    "    x = Conv2D(filters * 2, (1, 1), padding='same')(x)\n",
    "    x = BatchNormalization()(x)\n",
    "\n",
    "    # Add shortcut\n",
    "    if strides != 1 or input_tensor.shape[-1] != filters * 2:\n",
    "        shortcut = Conv2D(filters * 2, (1, 1), strides=strides, padding='same')(input_tensor)\n",
    "        shortcut = BatchNormalization()(shortcut)\n",
    "    else:\n",
    "        shortcut = input_tensor\n",
    "\n",
    "    x = Add()([x, shortcut])\n",
    "    x = ReLU()(x)\n",
    "\n",
    "    return x\n",
    "\n",
    "\n",
    "# Build ResNeXt-50 model\n",
    "def build_resnext50(input_shape=(224, 224, 3), num_classes=3, cardinality=32):\n",
    "    input_tensor = Input(shape=input_shape)\n",
    "\n",
    "    # Initial Convolution and MaxPooling\n",
    "    x = Conv2D(64, (7, 7), strides=2, padding='same')(input_tensor)\n",
    "    x = BatchNormalization()(x)\n",
    "    x = ReLU()(x)\n",
    "    x = tf.keras.layers.MaxPooling2D((3, 3), strides=2, padding='same')(x)\n",
    "\n",
    "    # ResNeXt Blocks\n",
    "    x = resnext_block(x, filters=128, cardinality=cardinality, strides=1)  # Stage 1\n",
    "    x=Dropout(0.3)(x)\n",
    "    x = resnext_block(x, filters=128, cardinality=cardinality, strides=1)  # Stage 1\n",
    "    x=Dropout(0.3)(x)\n",
    "    x = resnext_block(x, filters=256, cardinality=cardinality, strides=2)  # Stage 2\n",
    "    x=Dropout(0.3)(x)\n",
    "    x = resnext_block(x, filters=256, cardinality=cardinality, strides=1)  # Stage 2\n",
    "    x=Dropout(0.3)(x)\n",
    "    x = resnext_block(x, filters=512, cardinality=cardinality, strides=2)  # Stage 3\n",
    "    x=Dropout(0.3)(x)\n",
    "    x = resnext_block(x, filters=512, cardinality=cardinality, strides=1)  # Stage 3\n",
    "    x=Dropout(0.3)(x)\n",
    "\n",
    "    # Global Average Pooling and Dense Layers\n",
    "    x = GlobalAveragePooling2D()(x)\n",
    "    x = Dense(1024, activation='relu')(x)\n",
    "    x=Dropout(0.5)(x)\n",
    "    output_tensor = Dense(num_classes, activation='softmax')(x)\n",
    "\n",
    "    model = Model(inputs=input_tensor, outputs=output_tensor)\n",
    "    return model\n"
   ]
  },
  {
   "cell_type": "code",
   "execution_count": 13,
   "metadata": {},
   "outputs": [
    {
     "name": "stdout",
     "output_type": "stream",
     "text": [
      "83/83 [==============================] - 170s 2s/step - loss: 1.8041 - accuracy: 0.3668 - val_loss: 1.1563 - val_accuracy: 0.3167 - lr: 0.0010\n"
     ]
    }
   ],
   "source": [
    "# Instantiate and compile the model\n",
    "model = build_resnext50(input_shape=(IMG_HEIGHT, IMG_WIDTH, 3), num_classes=NUM_CLASSES, cardinality=CARDINALITY)\n",
    "\n",
    "model.compile(optimizer=tf.keras.optimizers.Adam(learning_rate=0.001),\n",
    "              loss='categorical_crossentropy',\n",
    "              metrics=['accuracy'])\n",
    "\n",
    "# Train the model\n",
    "lr_scheduler = ReduceLROnPlateau(monitor='val_loss', factor=0.5, patience=3, min_lr=1e-6)\n",
    "history = model.fit(train_generator,epochs=EPOCHS, validation_data=val_generator, callbacks=[lr_scheduler])"
   ]
  },
  {
   "cell_type": "code",
   "execution_count": 14,
   "metadata": {},
   "outputs": [],
   "source": [
    "# Save the trained model\n",
    "# model.save(\"dog_skinggg.h5\")\n",
    "\n"
   ]
  },
  {
   "cell_type": "code",
   "execution_count": 15,
   "metadata": {},
   "outputs": [
    {
     "name": "stdout",
     "output_type": "stream",
     "text": [
      "Found 60 images belonging to 3 classes.\n"
     ]
    },
    {
     "name": "stdout",
     "output_type": "stream",
     "text": [
      "60/60 [==============================] - 4s 69ms/step - loss: 1.1345 - accuracy: 0.3167\n",
      "Test Accuracy: 0.32\n"
     ]
    }
   ],
   "source": [
    "# Evaluate the model on the test set\n",
    "test_datagen = ImageDataGenerator(rescale=1.0 / 255)\n",
    "test_generator = test_datagen.flow_from_directory(\n",
    "    test_dir,\n",
    "    target_size=(IMG_HEIGHT, IMG_WIDTH),\n",
    "    batch_size=1,\n",
    "    class_mode='categorical'\n",
    ")\n",
    "\n",
    "test_loss, test_acc = model.evaluate(test_generator)\n",
    "print(f\"Test Accuracy: {test_acc:.2f}\")"
   ]
  },
  {
   "cell_type": "code",
   "execution_count": 16,
   "metadata": {},
   "outputs": [
    {
     "data": {
      "image/png": "[encoded data removed]",
      "text/plain": [
       "<Figure size 640x480 with 1 Axes>"
      ]
     },
     "metadata": {},
     "output_type": "display_data"
    },
    {
     "data": {
      "image/png": "[encoded data removed]",
      "text/plain": [
       "<Figure size 640x480 with 1 Axes>"
      ]
     },
     "metadata": {},
     "output_type": "display_data"
    }
   ],
   "source": [
    "import matplotlib.pyplot as plt\n",
    "\n",
    "# Plotting accuracy\n",
    "def plot_accuracy(history):\n",
    "    plt.plot(history.history['accuracy'], label='Training Accuracy')\n",
    "    plt.plot(history.history['val_accuracy'], label='Validation Accuracy')\n",
    "    plt.title('Training and Validation Accuracy')\n",
    "    plt.xlabel('Epochs')\n",
    "    plt.ylabel('Accuracy')\n",
    "    plt.legend()\n",
    "    plt.show()\n",
    "\n",
    "# Plotting loss\n",
    "def plot_loss(history):\n",
    "    plt.plot(history.history['loss'], label='Training Loss')\n",
    "    plt.plot(history.history['val_loss'], label='Validation Loss')\n",
    "    plt.title('Training and Validation Loss')\n",
    "    plt.xlabel('Epochs')\n",
    "    plt.ylabel('Loss')\n",
    "    plt.legend()\n",
    "    plt.show()\n",
    "\n",
    "# Call the functions\n",
    "plot_accuracy(history)\n",
    "plot_loss(history)\n"
   ]
  },
  {
   "cell_type": "code",
   "execution_count": 17,
   "metadata": {},
   "outputs": [
    {
     "name": "stdout",
     "output_type": "stream",
     "text": [
      "60/60 [==============================] - 5s 65ms/step\n"
     ]
    },
    {
     "data": {
      "image/png": "[encoded data removed]",
      "text/plain": [
       "<Figure size 800x600 with 2 Axes>"
      ]
     },
     "metadata": {},
     "output_type": "display_data"
    },
    {
     "name": "stdout",
     "output_type": "stream",
     "text": [
      "              precision    recall  f1-score   support\n",
      "\n",
      "flea_allergy       0.00      0.00      0.00        20\n",
      "     hotspot       0.37      1.00      0.54        20\n",
      "       mange       0.67      0.20      0.31        20\n",
      "\n",
      "    accuracy                           0.40        60\n",
      "   macro avg       0.35      0.40      0.28        60\n",
      "weighted avg       0.35      0.40      0.28        60\n",
      "\n"
     ]
    },
    {
     "name": "stderr",
     "output_type": "stream",
     "text": [
      "d:\\python files\\Dog_skin_disease\\.venv\\lib\\site-packages\\sklearn\\metrics\\_classification.py:1318: UndefinedMetricWarning: Precision and F-score are ill-defined and being set to 0.0 in labels with no predicted samples. Use `zero_division` parameter to control this behavior.\n",
      "  _warn_prf(average, modifier, msg_start, len(result))\n",
      "d:\\python files\\Dog_skin_disease\\.venv\\lib\\site-packages\\sklearn\\metrics\\_classification.py:1318: UndefinedMetricWarning: Precision and F-score are ill-defined and being set to 0.0 in labels with no predicted samples. Use `zero_division` parameter to control this behavior.\n",
      "  _warn_prf(average, modifier, msg_start, len(result))\n",
      "d:\\python files\\Dog_skin_disease\\.venv\\lib\\site-packages\\sklearn\\metrics\\_classification.py:1318: UndefinedMetricWarning: Precision and F-score are ill-defined and being set to 0.0 in labels with no predicted samples. Use `zero_division` parameter to control this behavior.\n",
      "  _warn_prf(average, modifier, msg_start, len(result))\n"
     ]
    }
   ],
   "source": [
    "import numpy as np\n",
    "import matplotlib.pyplot as plt\n",
    "from sklearn.metrics import confusion_matrix, classification_report\n",
    "import seaborn as sns\n",
    "\n",
    "# Get the true labels and predictions\n",
    "y_true = test_generator.classes\n",
    "y_pred = np.argmax(model.predict(test_generator), axis=-1)\n",
    "\n",
    "# Compute confusion matrix\n",
    "cm = confusion_matrix(y_true, y_pred)\n",
    "\n",
    "# Plot confusion matrix\n",
    "def plot_confusion_matrix(cm, labels):\n",
    "    plt.figure(figsize=(8, 6))\n",
    "    sns.heatmap(cm, annot=True, fmt='d', cmap='Blues', xticklabels=labels, yticklabels=labels)\n",
    "    plt.xlabel('Predicted')\n",
    "    plt.ylabel('True')\n",
    "    plt.title('Confusion Matrix')\n",
    "    plt.show()\n",
    "\n",
    "# Call the function with class labels\n",
    "labels = list(train_generator.class_indices.keys())  # Extract class labels\n",
    "plot_confusion_matrix(cm, labels)\n",
    "\n",
    "# Print classification report (precision, recall, f1-score)\n",
    "print(classification_report(y_true, y_pred, target_names=labels))\n"
   ]
  },
  {
   "cell_type": "code",
   "execution_count": 18,
   "metadata": {},
   "outputs": [
    {
     "name": "stdout",
     "output_type": "stream",
     "text": [
      "Class: flea_allergy\n",
      "Precision: 0.0000\n",
      "Recall: 0.0000\n",
      "F1-score: 0.0000\n",
      "-----\n",
      "Class: hotspot\n",
      "Precision: 0.3704\n",
      "Recall: 1.0000\n",
      "F1-score: 0.5405\n",
      "-----\n",
      "Class: mange\n",
      "Precision: 0.6667\n",
      "Recall: 0.2000\n",
      "F1-score: 0.3077\n",
      "-----\n"
     ]
    },
    {
     "name": "stderr",
     "output_type": "stream",
     "text": [
      "d:\\python files\\Dog_skin_disease\\.venv\\lib\\site-packages\\sklearn\\metrics\\_classification.py:1318: UndefinedMetricWarning: Precision and F-score are ill-defined and being set to 0.0 in labels with no predicted samples. Use `zero_division` parameter to control this behavior.\n",
      "  _warn_prf(average, modifier, msg_start, len(result))\n"
     ]
    }
   ],
   "source": [
    "from sklearn.metrics import precision_recall_fscore_support\n",
    "\n",
    "# Get precision, recall, and f1 score for each class\n",
    "precision, recall, f1, _ = precision_recall_fscore_support(y_true, y_pred, average=None)\n",
    "\n",
    "# Print the metrics for each class\n",
    "for i, label in enumerate(labels):\n",
    "    print(f\"Class: {label}\")\n",
    "    print(f\"Precision: {precision[i]:.4f}\")\n",
    "    print(f\"Recall: {recall[i]:.4f}\")\n",
    "    print(f\"F1-score: {f1[i]:.4f}\")\n",
    "    print(\"-----\")\n"
   ]
  }
 ],
 "metadata": {
  "kernelspec": {
   "display_name": ".venv",
   "language": "python",
   "name": "python3"
  },
  "language_info": {
   "codemirror_mode": {
    "name": "ipython",
    "version": 3
   },
   "file_extension": ".py",
   "mimetype": "text/x-python",
   "name": "python",
   "nbconvert_exporter": "python",
   "pygments_lexer": "ipython3",
   "version": "3.10.6"
  }
 },
 "nbformat": 4,
 "nbformat_minor": 4
}
